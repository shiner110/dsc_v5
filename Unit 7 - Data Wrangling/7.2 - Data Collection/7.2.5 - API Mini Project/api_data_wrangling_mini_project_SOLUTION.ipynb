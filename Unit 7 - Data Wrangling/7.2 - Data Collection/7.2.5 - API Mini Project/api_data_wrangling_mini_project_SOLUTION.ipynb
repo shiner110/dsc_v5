{
 "cells": [
  {
   "cell_type": "markdown",
   "metadata": {},
   "source": [
    "This exercise will require you to pull some data from https://data.nasdaq.com/ (formerly Quandl API)."
   ]
  },
  {
   "cell_type": "markdown",
   "metadata": {},
   "source": [
    "As a first step, you will need to register a free account on the https://data.nasdaq.com/ website."
   ]
  },
  {
   "cell_type": "markdown",
   "metadata": {},
   "source": [
    "After you register, you will be provided with a unique API key, that you should store:\n",
    "\n",
    "*Note*: Use a `.env` file and put your key in there and `python-dotenv` to access it in this notebook. \n",
    "\n",
    "The code below uses a key that was used when generating this project but has since been deleted. Never submit your keys to source control. There is a `.env-example` file in this repository to illusrtate what you need. Copy that to a file called `.env` and use your own api key in that `.env` file. Make sure you also have a `.gitignore` file with a line for `.env` added to it. \n",
    "\n",
    "The standard Python gitignore is [here](https://github.com/github/gitignore/blob/master/Python.gitignore) you can just copy that. "
   ]
  },
  {
   "cell_type": "code",
   "execution_count": 1,
   "metadata": {},
   "outputs": [],
   "source": [
    "# get api key from your .env file\n",
    "import os\n",
    "from dotenv import load_dotenv\n",
    "\n",
    "load_dotenv()\n",
    "API_KEY = os.getenv('NASDAQ_API_KEY')\n",
    "\n",
    "#print(API_KEY)"
   ]
  },
  {
   "cell_type": "markdown",
   "metadata": {},
   "source": [
    "Nasdaq Data has a large number of data sources, but, unfortunately, most of them require a Premium subscription. Still, there are also a good number of free datasets."
   ]
  },
  {
   "cell_type": "markdown",
   "metadata": {},
   "source": [
    "For this mini project, we will focus on equities data from the Frankfurt Stock Exhange (FSE), which is available for free. We'll try and analyze the stock prices of a company called Carl Zeiss Meditec, which manufactures tools for eye examinations, as well as medical lasers for laser eye surgery: https://www.zeiss.com/meditec/int/home.html. The company is listed under the stock ticker AFX_X."
   ]
  },
  {
   "cell_type": "markdown",
   "metadata": {},
   "source": [
    "You can find the detailed Nasdaq Data API instructions here: https://docs.data.nasdaq.com/docs/in-depth-usage"
   ]
  },
  {
   "cell_type": "markdown",
   "metadata": {},
   "source": [
    "While there is a dedicated Python package for connecting to the Nasdaq API, we would prefer that you use the *requests* package, which can be easily downloaded using *pip* or *conda*. You can find the documentation for the package here: http://docs.python-requests.org/en/master/ "
   ]
  },
  {
   "cell_type": "markdown",
   "metadata": {},
   "source": [
    "Finally, apart from the *requests* package, you are encouraged to not use any third party Python packages, such as *pandas*, and instead focus on what's available in the Python Standard Library (the *collections* module might come in handy: https://pymotw.com/3/collections/).\n",
    "Also, since you won't have access to DataFrames, you are encouraged to us Python's native data structures - preferably dictionaries, though some questions can also be answered using lists.\n",
    "You can read more on these data structures here: https://docs.python.org/3/tutorial/datastructures.html"
   ]
  },
  {
   "cell_type": "markdown",
   "metadata": {},
   "source": [
    "Keep in mind that the JSON responses you will be getting from the API map almost one-to-one to Python's dictionaries. Unfortunately, they can be very nested, so make sure you read up on indexing dictionaries in the documentation provided above."
   ]
  },
  {
   "cell_type": "code",
   "execution_count": 2,
   "metadata": {},
   "outputs": [],
   "source": [
    "# First, import the relevant modules\n",
    "import requests "
   ]
  },
  {
   "cell_type": "markdown",
   "metadata": {},
   "source": [
    "Note: API's can change a bit with each version, for this exercise it is reccomended to use the nasdaq api at `https://data.nasdaq.com/api/v3/`. This is the same api as what used to be quandl so `https://www.quandl.com/api/v3/` should work too.\n",
    "\n",
    "Hint: We are looking for the `AFX_X` data on the `datasets/FSE/` dataset."
   ]
  },
  {
   "cell_type": "code",
   "execution_count": 3,
   "metadata": {},
   "outputs": [],
   "source": [
    "# Now, call the Nasdaq API and pull out a small sample of the data (only one day) to get a glimpse\n",
    "# into the JSON structure that will be returned\n",
    "url = 'https://data.nasdaq.com/api/v3/datasets/FSE/AFX_X.json?start_date=2020-01-01&end_date=2020-01-02&API_KEY'\n",
    "r=requests.get(url)\n",
    "json_data = r.json()"
   ]
  },
  {
   "cell_type": "code",
   "execution_count": 4,
   "metadata": {},
   "outputs": [
    {
     "data": {
      "text/plain": [
       "{'dataset': {'id': 10095370,\n",
       "  'dataset_code': 'AFX_X',\n",
       "  'database_code': 'FSE',\n",
       "  'name': 'Carl Zeiss Meditec (AFX_X)',\n",
       "  'description': 'Stock Prices for Carl Zeiss Meditec (2020-11-02) from the Frankfurt Stock Exchange.<br><br>Trading System: Xetra<br><br>ISIN: DE0005313704',\n",
       "  'refreshed_at': '2020-12-01T14:48:09.907Z',\n",
       "  'newest_available_date': '2020-12-01',\n",
       "  'oldest_available_date': '2000-06-07',\n",
       "  'column_names': ['Date',\n",
       "   'Open',\n",
       "   'High',\n",
       "   'Low',\n",
       "   'Close',\n",
       "   'Change',\n",
       "   'Traded Volume',\n",
       "   'Turnover',\n",
       "   'Last Price of the Day',\n",
       "   'Daily Traded Units',\n",
       "   'Daily Turnover'],\n",
       "  'frequency': 'daily',\n",
       "  'type': 'Time Series',\n",
       "  'premium': False,\n",
       "  'limit': None,\n",
       "  'transform': None,\n",
       "  'column_index': None,\n",
       "  'start_date': '2020-01-01',\n",
       "  'end_date': '2020-01-02',\n",
       "  'data': [['2020-01-02',\n",
       "    114.0,\n",
       "    114.9,\n",
       "    112.7,\n",
       "    113.8,\n",
       "    None,\n",
       "    143464.0,\n",
       "    16291666.0,\n",
       "    None,\n",
       "    None,\n",
       "    None]],\n",
       "  'collapse': None,\n",
       "  'order': None,\n",
       "  'database_id': 6129}}"
      ]
     },
     "execution_count": 4,
     "metadata": {},
     "output_type": "execute_result"
    }
   ],
   "source": [
    "# Inspect the JSON structure of the object you created, and take note of how nested it is,\n",
    "# as well as the overall structure\n",
    "json_data"
   ]
  },
  {
   "cell_type": "markdown",
   "metadata": {},
   "source": [
    "These are your tasks for this mini project:\n",
    "\n",
    "1. Collect data from the Franfurt Stock Exchange, for the ticker AFX_X, for the whole year 2017 (keep in mind that the date format is YYYY-MM-DD).\n",
    "2. Convert the returned JSON object into a Python dictionary.\n",
    "3. Calculate what the highest and lowest opening prices were for the stock in this period.\n",
    "4. What was the largest change in any one day (based on High and Low price)?\n",
    "5. What was the largest change between any two days (based on Closing Price)?\n",
    "6. What was the average daily trading volume during this year?\n",
    "7. (Optional) What was the median trading volume during this year. (Note: you may need to implement your own function for calculating the median.)"
   ]
  },
  {
   "cell_type": "code",
   "execution_count": 5,
   "metadata": {},
   "outputs": [],
   "source": [
    "#Collect data from the Franfurt Stock Exchange, for the ticker AFX_X, for the whole year 2017 \n",
    "#keep in mind that the date format is YYYY-MM-DD\n",
    "#Convert the returned JSON object into a Python dictionary\n",
    "\n",
    "url_2017 = 'https://data.nasdaq.com/api/v3/datasets/FSE/AFX_X.json?start_date=2017-01-01&end_date=2017-12-31&API_KEY'\n",
    "req=requests.get(url_2017)\n",
    "json_2017 = req.json()"
   ]
  },
  {
   "cell_type": "code",
   "execution_count": 6,
   "metadata": {},
   "outputs": [
    {
     "name": "stdout",
     "output_type": "stream",
     "text": [
      "Highest opening price for 2017: $53.11\n",
      "Lowest opening price for 2017: $34.0\n"
     ]
    }
   ],
   "source": [
    "#Calculate what the highest and lowest opening prices were for the stock in this period\n",
    "\n",
    "#The list of values that include opening price corresponds to the key 'data' nested within 'dataset'\n",
    "daily_prices = json_2017['dataset']['data']\n",
    "\n",
    "#Opening prices are the 2nd item in the list under key column_names\n",
    "#'column_names': ['Date','Open','High','Low','Close','Change','Traded Volume',...]\n",
    "#Use list comprehension to create a list open_prices\n",
    "open_prices = [x[1] for x in daily_prices]\n",
    "\n",
    "#Filter out None values\n",
    "opp = list(filter(None, open_prices))\n",
    "\n",
    "#Calculate maximum and minimum openning prices to determine highest and lowest values\n",
    "print('Highest opening price for 2017: $' + str(max(opp)))\n",
    "print('Lowest opening price for 2017: $' + str(min(opp)))"
   ]
  },
  {
   "cell_type": "code",
   "execution_count": 7,
   "metadata": {},
   "outputs": [
    {
     "name": "stdout",
     "output_type": "stream",
     "text": [
      "The largest daily change for 2017 based on High and Low value: $18.55\n"
     ]
    }
   ],
   "source": [
    "#What was the largest change in any one day (based on High and Low price)?\n",
    "\n",
    "#High and low prices for each day are the 3rd and 4th items respectively\n",
    "high_prices = [x[2] for x in daily_prices]\n",
    "low_prices = [x[3] for x in daily_prices]\n",
    "\n",
    "#Create empty daily_change list and fill with the absolute difference between daily high and low prices\n",
    "daily_change = []\n",
    "for hp in high_prices:\n",
    "    for lp in low_prices:\n",
    "        change = abs(hp-lp)\n",
    "    daily_change.append(change)\n",
    "    \n",
    "#Find the maximum value from daily_change rounded to two decimals \n",
    "print('The largest daily change for 2017 based on High and Low value: $' + str(round(max(daily_change),2)))"
   ]
  },
  {
   "cell_type": "code",
   "execution_count": 8,
   "metadata": {
    "scrolled": true
   },
   "outputs": [
    {
     "name": "stdout",
     "output_type": "stream",
     "text": [
      "The largest change between any two days in 2017: $19.03\n"
     ]
    }
   ],
   "source": [
    "#What was the largest change between any two days (based on Closing Price)?\n",
    "\n",
    "#Use list comprehension to grab the 5th component of each list (closing prices) in daily_prices\n",
    "close_prices = [x[4] for x in daily_prices]\n",
    "\n",
    "\n",
    "two_day_change = []\n",
    "for i in range(len(close_prices)-1):\n",
    "    for j in range (len(close_prices)-2):\n",
    "        change = close_prices[j] - close_prices[i]\n",
    "        two_day_change.append(change)\n",
    "\n",
    "\n",
    "print('The largest change between any two days in 2017: $' + str(round(max(two_day_change),2)))"
   ]
  },
  {
   "cell_type": "code",
   "execution_count": 9,
   "metadata": {},
   "outputs": [
    {
     "name": "stdout",
     "output_type": "stream",
     "text": [
      "The average daily trading volume during 2017: 89124.34\n"
     ]
    }
   ],
   "source": [
    "#What was the average daily trading volume during this year?\n",
    "\n",
    "#Use list comprehension to grab the 7th component of each list (trading volume) in daily_prices \n",
    "trading_volume = [x[6] for x in daily_prices]\n",
    "\n",
    "#Calculate the average trading volume for 2017 by summing over all values and dividing by total reported days\n",
    "avg_trading_vol_2017 = sum(trading_volume)/len(trading_volume)\n",
    "\n",
    "#Print average daily trading volume during 2017, rounded to 2 decimal points\n",
    "print('The average daily trading volume during 2017: ' + str(round(avg_trading_vol_2017,2)))"
   ]
  },
  {
   "cell_type": "code",
   "execution_count": 10,
   "metadata": {},
   "outputs": [
    {
     "name": "stdout",
     "output_type": "stream",
     "text": [
      "Median trading volume for 2017: $76286.0\n"
     ]
    }
   ],
   "source": [
    "#(Optional) What was the median trading volume during this year. \n",
    "#(Note: you may need to implement your own function for calculating the median.)\n",
    "\n",
    "def calculate_median(x):\n",
    "    '''Given an input list return median.'''\n",
    "    \n",
    "    x = sorted(x)   #sort list\n",
    "    \n",
    "    #if the lenght of our list is odd, the median is the middle value of the sorted list\n",
    "    if len(x)%2 != 0:   \n",
    "        median_index =int(len(x)/2)   #calculate middle index \n",
    "        median_value = x[median_index]   #return value associated with middle index\n",
    "    \n",
    "    #otherwise for list with even lenghts, the median is the average of the two values in the middle\n",
    "    else:\n",
    "        index1 = int((len(x)/2)-1)   #find index for \n",
    "        index2 = int((len(x)/2))     #middle two values\n",
    "        median_value = (x[index1]+ x[index2])/2   #calculate average of two middle values\n",
    "    \n",
    "    return median_value\n",
    "\n",
    "#Calculate the median trading volume for 2017\n",
    "median_2017 = calculate_median(trading_volume)\n",
    "print('Median trading volume for 2017: $' + str(median_2017))"
   ]
  },
  {
   "cell_type": "code",
   "execution_count": null,
   "metadata": {},
   "outputs": [],
   "source": []
  }
 ],
 "metadata": {
  "interpreter": {
   "hash": "7635eb1b9d0fe97add78a7368b6b431c09bb8ad5c42e437d64abdd99821c31ae"
  },
  "kernelspec": {
   "display_name": "Python 3",
   "language": "python",
   "name": "python3"
  },
  "language_info": {
   "codemirror_mode": {
    "name": "ipython",
    "version": 3
   },
   "file_extension": ".py",
   "mimetype": "text/x-python",
   "name": "python",
   "nbconvert_exporter": "python",
   "pygments_lexer": "ipython3",
   "version": "3.8.5"
  }
 },
 "nbformat": 4,
 "nbformat_minor": 4
}
